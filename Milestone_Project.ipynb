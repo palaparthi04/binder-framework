{
 "cells": [
  {
   "cell_type": "code",
   "execution_count": 1,
   "id": "ecb7b4b4",
   "metadata": {},
   "outputs": [],
   "source": [
    "import pandas as pd"
   ]
  },
  {
   "cell_type": "code",
   "execution_count": 38,
   "id": "187aa120-ab28-4688-904d-60ad84de4591",
   "metadata": {},
   "outputs": [],
   "source": [
    "df = pd.read_csv('Value_of_Energy_Cost_Savings_Program_Savings_for_Businesses_-_FY2020.csv')"
   ]
  },
  {
   "cell_type": "code",
   "execution_count": 39,
   "id": "afac8e96-45d4-477e-a728-389da77b566b",
   "metadata": {},
   "outputs": [
    {
     "name": "stdout",
     "output_type": "stream",
     "text": [
      "<class 'pandas.core.frame.DataFrame'>\n",
      "RangeIndex: 450 entries, 0 to 449\n",
      "Data columns (total 26 columns):\n",
      " #   Column                                     Non-Null Count  Dtype  \n",
      "---  ------                                     --------------  -----  \n",
      " 0   Company Name                               450 non-null    object \n",
      " 1   company contact                            450 non-null    object \n",
      " 2   company email                              433 non-null    object \n",
      " 3   company phone                              450 non-null    object \n",
      " 4   Address                                    450 non-null    object \n",
      " 5   City                                       450 non-null    object \n",
      " 6   State                                      450 non-null    object \n",
      " 7   Postcode                                   450 non-null    int64  \n",
      " 8   Industry                                   450 non-null    object \n",
      " 9   Industry descr                             434 non-null    object \n",
      " 10  Company Type                               450 non-null    object \n",
      " 11  Current fulltime                           446 non-null    float64\n",
      " 12  Job created                                11 non-null     float64\n",
      " 13  Job retain                                 14 non-null     float64\n",
      " 14  Effective Date                             450 non-null    object \n",
      " 15  Total Savings                              450 non-null    float64\n",
      " 16  Savings from beginning receiving benefits  450 non-null    float64\n",
      " 17  Borough                                    450 non-null    object \n",
      " 18  Latitude                                   409 non-null    float64\n",
      " 19  Longitude                                  409 non-null    float64\n",
      " 20  Community Board                            409 non-null    float64\n",
      " 21  Council District                           409 non-null    float64\n",
      " 22  Census Tract                               409 non-null    float64\n",
      " 23  BIN                                        401 non-null    float64\n",
      " 24  BBL                                        401 non-null    float64\n",
      " 25  NTA                                        409 non-null    object \n",
      "dtypes: float64(12), int64(1), object(13)\n",
      "memory usage: 91.5+ KB\n",
      "None\n"
     ]
    }
   ],
   "source": [
    "print(df.info())"
   ]
  },
  {
   "cell_type": "code",
   "execution_count": 40,
   "id": "5e639bfa-5a52-45a2-91cb-4e4ba12b65e3",
   "metadata": {},
   "outputs": [
    {
     "name": "stdout",
     "output_type": "stream",
     "text": [
      "There are 439 companies represented in the data set\n"
     ]
    }
   ],
   "source": [
    "# Question 1\n",
    "n_companies = len(pd.unique(df[\"Company Name\"]))\n",
    "print(\"There are\", n_companies, \"companies represented in the data set\")"
   ]
  },
  {
   "cell_type": "code",
   "execution_count": 41,
   "id": "df615497-0c68-4498-85ba-6533cb9988b6",
   "metadata": {},
   "outputs": [
    {
     "name": "stdout",
     "output_type": "stream",
     "text": [
      "Total number of jobs created for Queens city are 90.0\n"
     ]
    }
   ],
   "source": [
    "# Question 2\n",
    "jobs = df.loc[(df[\"City\"] == \"Queens\") | (df[\"City\"] == \"QUEENS\"), \"Job created\"].sum()\n",
    "print(\"Total number of jobs created for Queens city are\", jobs)"
   ]
  },
  {
   "cell_type": "code",
   "execution_count": 42,
   "id": "94a819e7-bd81-4293-89a7-7bbc930d1efb",
   "metadata": {},
   "outputs": [
    {
     "name": "stdout",
     "output_type": "stream",
     "text": [
      "The number of unique email domains in the dataset are 356\n"
     ]
    }
   ],
   "source": [
    "# Question 3\n",
    "domain_names = df['company email'].str.split('@').str[1]\n",
    "n_domains = len(pd.unique(domain_names.dropna()))\n",
    "print(\"The number of unique email domains in the dataset are\", n_domains)"
   ]
  },
  {
   "cell_type": "code",
   "execution_count": 43,
   "id": "759d7d12-02ce-493a-859d-c07dc96e8326",
   "metadata": {},
   "outputs": [],
   "source": [
    "# Question 4\n",
    "NTA_5 = df.groupby('NTA').filter(lambda x: len(x) > 4)\n",
    "NTA_data = NTA_5[[\"NTA\", \"Total Savings\", \"Job created\"]]\n",
    "col = {\"Total Savings\": \"Average Total Savings\", \"Job created\": \"Total Jobs created\"}\n",
    "NTA_agg = NTA_data.groupby('NTA').agg({'Total Savings':'mean', 'Job created':'sum'}).rename(columns = col)\n",
    "NTA_agg.to_csv('NTA_agg.csv')"
   ]
  },
  {
   "cell_type": "code",
   "execution_count": 44,
   "id": "47e248d6-1dc6-4e8e-abc0-0d0f8a84fbd6",
   "metadata": {},
   "outputs": [
    {
     "data": {
      "text/plain": [
       "<AxesSubplot:xlabel='Total Jobs created', ylabel='Average Total Savings'>"
      ]
     },
     "execution_count": 44,
     "metadata": {},
     "output_type": "execute_result"
    },
    {
     "data": {
      "image/png": "[encoded data removed]",
      "text/plain": [
       "<Figure size 432x288 with 1 Axes>"
      ]
     },
     "metadata": {
      "needs_background": "light"
     },
     "output_type": "display_data"
    }
   ],
   "source": [
    "# Question 5\n",
    "NTA_agg.plot.scatter(x = 'Total Jobs created', y = 'Average Total Savings')"
   ]
  },
  {
   "cell_type": "code",
   "execution_count": 45,
   "id": "801fa944-3415-4a21-85e0-64a10631ebbe",
   "metadata": {},
   "outputs": [
    {
     "data": {
      "text/plain": [
       "<AxesSubplot:xlabel='Total Jobs created', ylabel='Average Total Savings'>"
      ]
     },
     "execution_count": 45,
     "metadata": {},
     "output_type": "execute_result"
    },
    {
     "data": {
      "image/png": "[encoded data removed]",
      "text/plain": [
       "<Figure size 432x288 with 1 Axes>"
      ]
     },
     "metadata": {
      "needs_background": "light"
     },
     "output_type": "display_data"
    }
   ],
   "source": [
    "# Question 6\n",
    "NTA_agg.plot.scatter(x = 'Total Jobs created', y = 'Average Total Savings', logy=True)"
   ]
  },
  {
   "cell_type": "code",
   "execution_count": 46,
   "id": "d4a527d8-839a-420b-9316-b20ef02dc18a",
   "metadata": {},
   "outputs": [
    {
     "data": {
      "text/plain": [
       "<AxesSubplot:ylabel='Frequency'>"
      ]
     },
     "execution_count": 46,
     "metadata": {},
     "output_type": "execute_result"
    },
    {
     "data": {
      "image/png": "[encoded data removed]",
      "text/plain": [
       "<Figure size 432x288 with 1 Axes>"
      ]
     },
     "metadata": {
      "needs_background": "light"
     },
     "output_type": "display_data"
    }
   ],
   "source": [
    "# Question 7\n",
    "NTA_agg['Average Total Savings'].plot(kind = 'hist', logx = True)"
   ]
  },
  {
   "cell_type": "code",
   "execution_count": 68,
   "id": "405bb111-140b-48d1-924d-ac1de4d32c1d",
   "metadata": {},
   "outputs": [
    {
     "data": {
      "image/png": "[encoded data removed]",
      "text/plain": [
       "<Figure size 432x288 with 1 Axes>"
      ]
     },
     "metadata": {
      "needs_background": "light"
     },
     "output_type": "display_data"
    }
   ],
   "source": [
    "# Question 8\n",
    "import matplotlib.pyplot as plt\n",
    "df['Effective Date2'] = pd.to_datetime(df['Effective Date'])\n",
    "cols = {'Effective Date2':'Month Data', 'Job created':'Total jobs created'}\n",
    "jobs = df.groupby(pd.Grouper(key = 'Effective Date2', freq = 'M')).agg({'Job created':'sum'}).reset_index().rename(columns = cols)\n",
    "\n",
    "plt.plot(jobs['Month Data'], jobs['Total jobs created'])\n",
    "plt.xticks(rotation='vertical')\n",
    "plt.show()"
   ]
  },
  {
   "cell_type": "code",
   "execution_count": null,
   "id": "c8f2486f-7d83-442d-99ed-76928b014ff7",
   "metadata": {},
   "outputs": [],
   "source": []
  }
 ],
 "metadata": {
  "kernelspec": {
   "display_name": "Python 3 (ipykernel)",
   "language": "python",
   "name": "python3"
  },
  "language_info": {
   "codemirror_mode": {
    "name": "ipython",
    "version": 3
   },
   "file_extension": ".py",
   "mimetype": "text/x-python",
   "name": "python",
   "nbconvert_exporter": "python",
   "pygments_lexer": "ipython3",
   "version": "3.7.11"
  }
 },
 "nbformat": 4,
 "nbformat_minor": 5
}
